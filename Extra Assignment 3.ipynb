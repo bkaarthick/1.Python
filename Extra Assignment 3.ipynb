{
 "cells": [
  {
   "cell_type": "code",
   "execution_count": 1,
   "id": "634c8339",
   "metadata": {},
   "outputs": [
    {
     "name": "stdout",
     "output_type": "stream",
     "text": [
      "value:10\n",
      "CORRECT\n"
     ]
    }
   ],
   "source": [
    "#print 'CORRECT' if i == 10\n",
    "i=int(input(\"value:\"))\n",
    "if(i==10):\n",
    "    print(\"CORRECT\")\n",
    "else:\n",
    "    print(\"WRONG\")"
   ]
  },
  {
   "cell_type": "code",
   "execution_count": 2,
   "id": "4083fc3c",
   "metadata": {},
   "outputs": [
    {
     "name": "stdout",
     "output_type": "stream",
     "text": [
      "Enter the Password:HOPE@123\n",
      "Your Password is Correct\n"
     ]
    }
   ],
   "source": [
    "password=input(\"Enter the Password:\")\n",
    "if(password==\"HOPE@123\"):\n",
    "    print(\"Your Password is Correct\")\n",
    "else:\n",
    "    print(\"Your Password is Wrong\")"
   ]
  },
  {
   "cell_type": "code",
   "execution_count": 3,
   "id": "13764970",
   "metadata": {},
   "outputs": [
    {
     "name": "stdout",
     "output_type": "stream",
     "text": [
      "age: 15\n",
      "Children\n"
     ]
    }
   ],
   "source": [
    "#Catagory the people by their age like children, adult, citizen, senior citizen...\n",
    "num = int(input(\"age: \"))\n",
    "if(num<18):\n",
    "    print(\"Children\")\n",
    "elif(num<=35):\n",
    "    print(\"Adult\")\n",
    "elif(num<=60):\n",
    "    print(\"Citizen\")\n",
    "else:\n",
    "    print(\"Senior Citizen\")"
   ]
  },
  {
   "cell_type": "code",
   "execution_count": 5,
   "id": "be31adac",
   "metadata": {},
   "outputs": [
    {
     "name": "stdout",
     "output_type": "stream",
     "text": [
      "Enter the Number:0\n",
      "Zero\n"
     ]
    }
   ],
   "source": [
    "#Find whether given number is positive or negative\n",
    "num=int(input(\"Enter the Number:\"))\n",
    "if(num>0):\n",
    "    print(\"Number is Positive\")\n",
    "elif(num<0):\n",
    "    print(\"Number is Negative\")\n",
    "else:\n",
    "    print(\"Zero\")"
   ]
  },
  {
   "cell_type": "code",
   "execution_count": 6,
   "id": "6cd2fc59",
   "metadata": {},
   "outputs": [
    {
     "name": "stdout",
     "output_type": "stream",
     "text": [
      "Enter the Number30\n",
      "Number is divisible by 5\n"
     ]
    }
   ],
   "source": [
    "#Check whether the given number is divisible by 5\n",
    "num=int(input(\"Enter the Number\"))\n",
    "if(num%5==0):\n",
    "    print(\"Number is divisible by 5\")\n",
    "else:\n",
    "    print(\"Number is not divisible by 5\")"
   ]
  }
 ],
 "metadata": {
  "kernelspec": {
   "display_name": "Python 3 (ipykernel)",
   "language": "python",
   "name": "python3"
  },
  "language_info": {
   "codemirror_mode": {
    "name": "ipython",
    "version": 3
   },
   "file_extension": ".py",
   "mimetype": "text/x-python",
   "name": "python",
   "nbconvert_exporter": "python",
   "pygments_lexer": "ipython3",
   "version": "3.11.4"
  }
 },
 "nbformat": 4,
 "nbformat_minor": 5
}
