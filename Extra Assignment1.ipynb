{
 "cells": [
  {
   "cell_type": "code",
   "execution_count": 1,
   "id": "73042989",
   "metadata": {
    "scrolled": true
   },
   "outputs": [
    {
     "name": "stdout",
     "output_type": "stream",
     "text": [
      "Hope AI\n"
     ]
    }
   ],
   "source": [
    "#Print Statement HOPE AI\n",
    "print('Hope AI')"
   ]
  },
  {
   "cell_type": "code",
   "execution_count": 3,
   "id": "6938e9d0",
   "metadata": {},
   "outputs": [
    {
     "name": "stdout",
     "output_type": "stream",
     "text": [
      "Enter Institute Name?Hope AI\n"
     ]
    },
    {
     "data": {
      "text/plain": [
       "'Hope AI'"
      ]
     },
     "execution_count": 3,
     "metadata": {},
     "output_type": "execute_result"
    }
   ],
   "source": [
    "B>E#Buy Input\n",
    "input('Enter Institute Name?')"
   ]
  },
  {
   "cell_type": "code",
   "execution_count": 5,
   "id": "321ca288",
   "metadata": {},
   "outputs": [
    {
     "name": "stdout",
     "output_type": "stream",
     "text": [
      "Enter your name:Raj\n",
      "Enter your age:34\n",
      "Enter your school name:Guru School\n",
      "Enter your drgree:B.E., CSE\n"
     ]
    }
   ],
   "source": [
    "name=input('Enter your name:')\n",
    "age=int(input('Enter your age:'))\n",
    "school=input(\"Enter your school name:\")\n",
    "drgree=input('Enter your drgree:')"
   ]
  },
  {
   "cell_type": "code",
   "execution_count": 6,
   "id": "3ead94ae",
   "metadata": {},
   "outputs": [
    {
     "name": "stdout",
     "output_type": "stream",
     "text": [
      "a= 43\n",
      "b= 34\n",
      "add = 77\n"
     ]
    }
   ],
   "source": [
    "a=43\n",
    "b=34\n",
    "print('a=',a)\n",
    "print('b=',b)\n",
    "print('add =',a+b)"
   ]
  },
  {
   "cell_type": "code",
   "execution_count": 7,
   "id": "5c345ea2",
   "metadata": {},
   "outputs": [
    {
     "name": "stdout",
     "output_type": "stream",
     "text": [
      "a= 43\n",
      "b= 34\n",
      "Sub = 9\n"
     ]
    }
   ],
   "source": [
    "#Subtraction\n",
    "a=43\n",
    "b=34\n",
    "print('a=',a)\n",
    "print('b=',b)\n",
    "print('Sub =',a-b)\n"
   ]
  },
  {
   "cell_type": "code",
   "execution_count": 8,
   "id": "6f852f4b",
   "metadata": {},
   "outputs": [
    {
     "name": "stdout",
     "output_type": "stream",
     "text": [
      "a= 63\n",
      "b= 97\n",
      "Mul = 6111\n"
     ]
    }
   ],
   "source": [
    "#Multiplication\n",
    "a= 63\n",
    "b= 97\n",
    "print('a=',a)\n",
    "print('b=',b)\n",
    "print('Mul =', a*b)"
   ]
  },
  {
   "cell_type": "code",
   "execution_count": 9,
   "id": "5f6f3b58",
   "metadata": {},
   "outputs": [
    {
     "name": "stdout",
     "output_type": "stream",
     "text": [
      "a= 76\n",
      "b= 31\n",
      "Float Div = 2.4516129032258065\n"
     ]
    }
   ],
   "source": [
    "#a= 76\n",
    "#b= 31\n",
    "print('a=', 76)\n",
    "print('b=', 31)\n",
    "print('Float Div =', 76/31)"
   ]
  },
  {
   "cell_type": "code",
   "execution_count": 11,
   "id": "7f47c330",
   "metadata": {},
   "outputs": [
    {
     "name": "stdout",
     "output_type": "stream",
     "text": [
      "a= 76\n",
      "b= 31\n",
      "Floor Div = 2\n"
     ]
    }
   ],
   "source": [
    "#Floor Division\n",
    "print('a=', 76)\n",
    "print('b=', 31)\n",
    "print('Floor Div =', 76//31)"
   ]
  },
  {
   "cell_type": "code",
   "execution_count": 12,
   "id": "ad751668",
   "metadata": {},
   "outputs": [
    {
     "name": "stdout",
     "output_type": "stream",
     "text": [
      "a= 76\n",
      "b= 31\n",
      "Modulo = 14\n"
     ]
    }
   ],
   "source": [
    "#Modulo Division\n",
    "print('a=', 76)\n",
    "print('b=', 31)\n",
    "print('Modulo =', 76%31)"
   ]
  },
  {
   "cell_type": "code",
   "execution_count": 13,
   "id": "79b5f314",
   "metadata": {},
   "outputs": [
    {
     "name": "stdout",
     "output_type": "stream",
     "text": [
      "a= 4\n",
      "b= 4\n",
      "Power = 256\n"
     ]
    }
   ],
   "source": [
    "#Power\n",
    "print('a=', 4)\n",
    "print('b=', 4)\n",
    "print('Power =', 4**4)"
   ]
  }
 ],
 "metadata": {
  "kernelspec": {
   "display_name": "Python 3 (ipykernel)",
   "language": "python",
   "name": "python3"
  },
  "language_info": {
   "codemirror_mode": {
    "name": "ipython",
    "version": 3
   },
   "file_extension": ".py",
   "mimetype": "text/x-python",
   "name": "python",
   "nbconvert_exporter": "python",
   "pygments_lexer": "ipython3",
   "version": "3.11.4"
  }
 },
 "nbformat": 4,
 "nbformat_minor": 5
}
