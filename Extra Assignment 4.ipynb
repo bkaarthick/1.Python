{
 "cells": [
  {
   "cell_type": "code",
   "execution_count": 6,
   "id": "5e84286d",
   "metadata": {},
   "outputs": [],
   "source": [
    "#Create a class and function, and list out the items in the list\n",
    "class SubfieldsInAI():\n",
    "    def Subfields():\n",
    "        print(\"Sub-fields in AI are:\")\n",
    "        for temp in ['Machine Learning', 'Neural Networks', 'Vision', 'Robotics', 'Speech Processing', 'Natural Language Processing']:\n",
    "            print(temp)\n"
   ]
  },
  {
   "cell_type": "code",
   "execution_count": 7,
   "id": "bc0f143e",
   "metadata": {},
   "outputs": [
    {
     "name": "stdout",
     "output_type": "stream",
     "text": [
      "Sub-fields in AI are:\n",
      "Machine Learning\n",
      "Neural Networks\n",
      "Vision\n",
      "Robotics\n",
      "Speech Processing\n",
      "Natural Language Processing\n"
     ]
    }
   ],
   "source": [
    "SubfieldsInAI.Subfields()"
   ]
  },
  {
   "cell_type": "code",
   "execution_count": 10,
   "id": "38f6209c",
   "metadata": {},
   "outputs": [],
   "source": [
    "#Create a function that checks whether the given number is Odd or Even\n",
    "class OddEven():\n",
    "    def OddEven():\n",
    "        num = int(input(\"Enter a number: \"))\n",
    "        if(num%2==0):\n",
    "            print(\"{0} is Even\".format(num))\n",
    "        else:\n",
    "            print(\"{0} is Odd\". format(num))"
   ]
  },
  {
   "cell_type": "code",
   "execution_count": 11,
   "id": "92abe84c",
   "metadata": {},
   "outputs": [
    {
     "name": "stdout",
     "output_type": "stream",
     "text": [
      "Enter a number: 20\n",
      "20 is Even\n"
     ]
    }
   ],
   "source": [
    "OddEven.OddEven()"
   ]
  },
  {
   "cell_type": "code",
   "execution_count": 15,
   "id": "1731e674",
   "metadata": {},
   "outputs": [],
   "source": [
    "#Create a function that tells elegibility of marriage for male and female according to their age limit like 21 for male and 18 for female\n",
    "\n",
    "class ElegiblityForMarriage():\n",
    "    def Eligible():\n",
    "        gender=input(\"Your Gender:\")\n",
    "        age=int(input(\"Your Age:\"))\n",
    "        if(gender==\"Male\"):\n",
    "            if(age>=21):\n",
    "                print(\"Eligible\")\n",
    "            else:\n",
    "                print(\"Not Eligible\")\n",
    "        elif(gender==\"Female\"):\n",
    "            if(age>=18):\n",
    "                print(\"Eligible\")\n",
    "            else:\n",
    "                print(\"Not Eligible\")          \n",
    "        else:\n",
    "            print(\"Invalid Data\")"
   ]
  },
  {
   "cell_type": "code",
   "execution_count": 16,
   "id": "ea6b02b4",
   "metadata": {},
   "outputs": [
    {
     "name": "stdout",
     "output_type": "stream",
     "text": [
      "Your Gender:500\n",
      "Your Age:89\n",
      "Invalid Data\n"
     ]
    }
   ],
   "source": [
    "ElegiblityForMarriage.Eligible()"
   ]
  },
  {
   "cell_type": "code",
   "execution_count": 21,
   "id": "003b0fe1",
   "metadata": {},
   "outputs": [],
   "source": [
    "#calculate the percentage of your 10th mark\n",
    "class FindPercent():\n",
    "    def percentage():\n",
    "        m1=int(input(\"Subject 1=\"))\n",
    "        m2=int(input(\"Subject 2=\"))\n",
    "        m3=int(input(\"Subject 3=\"))\n",
    "        m4=int(input(\"Subject 4=\"))\n",
    "        m5=int(input(\"Subject 5=\"))\n",
    "        print(\"Total\",m1+m2+m3+m4+m5)\n",
    "        print(\"Percentage\",((m1+m2+m3+m4+m5)/500)*100)"
   ]
  },
  {
   "cell_type": "code",
   "execution_count": 23,
   "id": "7cbb230e",
   "metadata": {},
   "outputs": [
    {
     "name": "stdout",
     "output_type": "stream",
     "text": [
      "Subject 1=89\n",
      "Subject 2=7897\n",
      "Subject 3=55\n",
      "Subject 4=7876\n",
      "Subject 5=66\n",
      "Total 15983\n",
      "Percentage 3196.6\n"
     ]
    }
   ],
   "source": [
    "FindPercent.percentage()"
   ]
  },
  {
   "cell_type": "code",
   "execution_count": 25,
   "id": "bf5952c0",
   "metadata": {},
   "outputs": [],
   "source": [
    "class triangle():\n",
    "    def triangle():\n",
    "        Height=int(input(\"Height=\"))\n",
    "        breadth=int(input(\"breadth=\"))\n",
    "        print(\"Area of the Triangle:\", (Height*breadth)/2)\n",
    "        Height1=int(input(\"Height1=\"))\n",
    "        Height2=int(input(\"Height2=\"))\n",
    "        breadth=int(input(\"breadth=\"))\n",
    "        print(\"Perimeter of the Triangle:\", Height1+Height2+breadth)\n",
    "        "
   ]
  },
  {
   "cell_type": "code",
   "execution_count": 26,
   "id": "f7ae35e6",
   "metadata": {},
   "outputs": [
    {
     "name": "stdout",
     "output_type": "stream",
     "text": [
      "Height=67\n",
      "breadth=88\n",
      "Area of the Triangle: 2948.0\n",
      "Height1=999\n",
      "Height2=67\n",
      "breadth=79787\n",
      "Perimeter of the Triangle: 80853\n"
     ]
    }
   ],
   "source": [
    "triangle.triangle()"
   ]
  }
 ],
 "metadata": {
  "kernelspec": {
   "display_name": "Python 3 (ipykernel)",
   "language": "python",
   "name": "python3"
  },
  "language_info": {
   "codemirror_mode": {
    "name": "ipython",
    "version": 3
   },
   "file_extension": ".py",
   "mimetype": "text/x-python",
   "name": "python",
   "nbconvert_exporter": "python",
   "pygments_lexer": "ipython3",
   "version": "3.11.4"
  }
 },
 "nbformat": 4,
 "nbformat_minor": 5
}
